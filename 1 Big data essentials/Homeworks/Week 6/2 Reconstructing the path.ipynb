{
 "cells": [
  {
   "cell_type": "markdown",
   "metadata": {},
   "source": [
    "## Assignment 1: Reconstructing the path\n",
    "In this assignment you will use Spark to compute the shortest path between two vertices. In the video, you have learned how to compute the distances between a source vertex and all other vertices in a graph. Now, your task is to reconstruct the shortest path, that is a sequence of vertices connected by the edges.\n",
    "\n",
    "Dataset location: /data/twitter/twitter_sample.txt\n",
    "\n",
    "Format: user_id \\t follower_id\n",
    "\n",
    "You can start with the code from the video:\n",
    "```python\n",
    "def parse_edge(s):\n",
    "  user, follower = s.split(\"\\t\")\n",
    "  return (int(user), int(follower))\n",
    "\n",
    "def step(item):\n",
    "  prev_v, prev_d, next_v = item[0], item[1][0], item[1][1]\n",
    "  return (next_v, prev_d + 1)\n",
    "\n",
    "def complete(item):\n",
    "  v, old_d, new_d = item[0], item[1][0], item[1][1]\n",
    "  return (v, old_d if old_d is not None else new_d)\n",
    "\n",
    "n = 400  # number of partitions\n",
    "edges = sc.textFile(\"/data/twitter/sample\").map(parse_edge).cache()\n",
    "forward_edges = edges.map(lambda e: (e[1], e[0])).partitionBy(n).persist()\n",
    "\n",
    "x = 12\n",
    "d = 0\n",
    "distances = sc.parallelize([(x, d)]).partitionBy(n)\n",
    "while True:\n",
    "  candidates = distances.join(forward_edges, n).map(step)\n",
    "  new_distances = distances.fullOuterJoin(candidates, n).map(complete, True).persist()\n",
    "  count = new_distances.filter(lambda i: i[1] == d + 1).count()\n",
    "  if count > 0:\n",
    "    d += 1\n",
    "    distances = new_distances\n",
    "    print(\"d = \", d, \"count = \", count)\n",
    "  else:\n",
    "    break\n",
    "```\n",
    "Your task is to find the shortest path between vertices 12 and 34. In case of multiple shortest paths (that is, disjoint paths with the same length), any will suffice. Output format is the sequence of vertices, delimited by a comma, without spaces. For example, the path “12 -> 42 -> 34” should be printed as\n",
    "```\n",
    "12,42,34\n",
    "```\n",
    "*Hint: before submitting, check your stopping criteria. In BFS, the search was exhaustive, and in this task your program may terminate earlier, thus saving some precious time.*"
   ]
  },
  {
   "cell_type": "code",
   "execution_count": 1,
   "metadata": {},
   "outputs": [],
   "source": [
    "from pyspark import SparkConf, SparkContext\n",
    "sc = SparkContext(conf=SparkConf().setAppName(\"MyApp\").setMaster(\"local\"))"
   ]
  },
  {
   "cell_type": "code",
   "execution_count": 2,
   "metadata": {},
   "outputs": [],
   "source": [
    "def parse_edge(s):\n",
    "    user, follower = s.split(\"\\t\")\n",
    "    return (int(user), int(follower))\n",
    "\n",
    "def step(item):\n",
    "    prev_v, prev_d, next_v = item[0], item[1][0], item[1][1]\n",
    "    return (next_v, prev_d + 1)\n",
    "\n",
    "def complete(item):\n",
    "    v, old_d, new_d = item[0], item[1][0], item[1][1]\n",
    "    return (v, old_d if old_d is not None else new_d)"
   ]
  },
  {
   "cell_type": "code",
   "execution_count": 76,
   "metadata": {},
   "outputs": [],
   "source": [
    "def path_step(item):\n",
    "    last_vert, path, new_vert = item[0], item[1][0], item[1][1]\n",
    "    last_vert = new_vert\n",
    "    path += tuple([new_vert])\n",
    "    return (last_vert, path)"
   ]
  },
  {
   "cell_type": "code",
   "execution_count": 96,
   "metadata": {
    "scrolled": true
   },
   "outputs": [
    {
     "name": "stdout",
     "output_type": "stream",
     "text": [
      "Calculating distance = 1...\n",
      "Calculating distance = 2...\n",
      "Calculating distance = 3...\n",
      "Calculating distance = 4...\n",
      "Calculating distance = 5...\n",
      "Calculating distance = 6...\n",
      "Calculating distance = 7...\n",
      "Calculating distance = 8...\n",
      "12,422,53,52,107,20,23,274,34\n"
     ]
    }
   ],
   "source": [
    "n = 4  # number of partitions\n",
    "edges = sc.textFile(\"/data/twitter/twitter_sample.txt\").map(parse_edge).cache()\n",
    "forward_edges = edges.map(lambda e: (e[1], e[0])).partitionBy(n).persist()\n",
    "\n",
    "x_start = 12\n",
    "x_end = 34\n",
    "\n",
    "paths = sc.parallelize([ (x_start, tuple([x_start])) ]).partitionBy(n)\n",
    "\n",
    "d = 0\n",
    "\n",
    "while True:\n",
    "    d += 1\n",
    "    print 'Calculating distance = %d...' % d\n",
    "    paths = paths.join(forward_edges, n).map(path_step)\n",
    "    if paths.filter(lambda x: x[0] == x_end).count() > 0:\n",
    "        break\n",
    "        \n",
    "paths = paths.filter(lambda x: x[0] == x_end).collect()\n",
    "\n",
    "min_path = paths[0][1]\n",
    "min_path_len = len(min_path)\n",
    "for path in paths:\n",
    "    path = path[1]\n",
    "    if len(path) < min_path_len:\n",
    "        min_path = path\n",
    "        min_path_len = len(min_path)\n",
    "\n",
    "print(','.join(map(str, min_path)))"
   ]
  },
  {
   "cell_type": "code",
   "execution_count": null,
   "metadata": {},
   "outputs": [],
   "source": []
  }
 ],
 "metadata": {
  "kernelspec": {
   "display_name": "Python 2",
   "language": "python",
   "name": "python2"
  },
  "language_info": {
   "codemirror_mode": {
    "name": "ipython",
    "version": 2
   },
   "file_extension": ".py",
   "mimetype": "text/x-python",
   "name": "python",
   "nbconvert_exporter": "python",
   "pygments_lexer": "ipython2",
   "version": "2.7.12"
  }
 },
 "nbformat": 4,
 "nbformat_minor": 2
}
