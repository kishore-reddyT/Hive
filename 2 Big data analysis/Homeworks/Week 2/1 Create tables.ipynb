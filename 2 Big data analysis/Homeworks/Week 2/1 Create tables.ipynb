{
 "cells": [
  {
   "cell_type": "code",
   "execution_count": 95,
   "metadata": {},
   "outputs": [
    {
     "name": "stdout",
     "output_type": "stream",
     "text": [
      "Hive 1.1.0\r\n",
      "Subversion git://localhost.localdomain/Users/noland/workspaces/hive-apache/hive -r 3b87e226d9f2ff5d69385ed20704302cffefab21\r\n",
      "Compiled by noland on Wed Feb 18 16:06:08 PST 2015\r\n",
      "From source with checksum bca57a923a7578b7e5e9350ffb165cca\r\n"
     ]
    }
   ],
   "source": [
    "! hive --version"
   ]
  },
  {
   "cell_type": "code",
   "execution_count": 1,
   "metadata": {},
   "outputs": [
    {
     "name": "stdout",
     "output_type": "stream",
     "text": [
      "Writing creation_db.hql\n"
     ]
    }
   ],
   "source": [
    "%%writefile creation_db.hql\n",
    "\n",
    "DROP DATABASE IF EXISTS postsdb CASCADE;\n",
    "CREATE DATABASE postsdb LOCATION '/user/jovyan/somemetastore';"
   ]
  },
  {
   "cell_type": "code",
   "execution_count": 2,
   "metadata": {},
   "outputs": [
    {
     "name": "stdout",
     "output_type": "stream",
     "text": [
      "\n",
      "Logging initialized using configuration in jar:file:/usr/local/apache-hive-1.1.0-bin/lib/hive-common-1.1.0.jar!/hive-log4j.properties\n",
      "OK\n",
      "Time taken: 0.534 seconds\n",
      "OK\n",
      "Time taken: 0.291 seconds\n"
     ]
    }
   ],
   "source": [
    "! hive -f creation_db.hql"
   ]
  },
  {
   "cell_type": "markdown",
   "metadata": {},
   "source": [
    "<row Id=\"11\" PostTypeId=\"1\" AcceptedAnswerId=\"1248\" CreationDate=\"2008-07-31T23:55:37.967\" Score=\"1106\" ViewCount=\"115048\" Body=\"&lt;p&gt;Given a specific &lt;code&gt;DateTime&lt;/code&gt; value, how do I display relative time, like:&lt;/p&gt;&#xA;&#xA;&lt;ul&gt;&#xA;&lt;li&gt;2 hours ago&lt;/li&gt;&#xA;&lt;li&gt;3 days ago&lt;/li&gt;&#xA;&lt;li&gt;a month ago&lt;/li&gt;&#xA;&lt;/ul&gt;&#xA;\" OwnerUserId=\"1\" LastEditorUserId=\"1136709\" LastEditorDisplayName=\"user2370523\" LastEditDate=\"2015-12-29T02:08:37.450\" LastActivityDate=\"2016-07-13T23:23:58.537\" Title=\"How can relative time be calculated in C#?\" Tags=\"&lt;c#&gt;&lt;datetime&gt;&lt;datediff&gt;&lt;relative-time-span&gt;\" AnswerCount=\"33\" CommentCount=\"4\" FavoriteCount=\"508\" CommunityOwnedDate=\"2009-09-04T13:15:59.820\" />"
   ]
  },
  {
   "cell_type": "code",
   "execution_count": 37,
   "metadata": {},
   "outputs": [
    {
     "name": "stdout",
     "output_type": "stream",
     "text": [
      "Overwriting external_table.hql\n"
     ]
    }
   ],
   "source": [
    "%%writefile external_table.hql\n",
    "\n",
    "ADD JAR /opt/cloudera/parcels/CDH/lib/hive/lib/hive-contrib.jar;\n",
    "\n",
    "USE postsdb;\n",
    "DROP TABLE IF EXISTS posts_sample_external;\n",
    "\n",
    "CREATE EXTERNAL TABLE posts_sample_external (\n",
    "    rowid STRING,\n",
    "    year STRING,\n",
    "    month STRING\n",
    ")\n",
    "ROW FORMAT SERDE 'org.apache.hadoop.hive.contrib.serde2.RegexSerDe'\n",
    "WITH SERDEPROPERTIES (\n",
    " \"input.regex\" = '.*(?<=\\\\brow Id\\\\b=\\\")(\\\\d+).*(?<=\\\\bCreationDate\\\\b=\\\")(\\\\d{4})-(\\\\d{2}).*'\n",
    ")\n",
    "STORED AS TEXTFILE\n",
    "LOCATION '/data/stackexchange1000/posts'\n",
    "TBLPROPERTIES (\"skip.header.line.count\"=\"1\");\n",
    "\n",
    "SELECT * FROM posts_sample_external LIMIT 10;"
   ]
  },
  {
   "cell_type": "code",
   "execution_count": 38,
   "metadata": {},
   "outputs": [
    {
     "name": "stdout",
     "output_type": "stream",
     "text": [
      "\n",
      "Logging initialized using configuration in jar:file:/usr/local/apache-hive-1.1.0-bin/lib/hive-common-1.1.0.jar!/hive-log4j.properties\n",
      "Added [/opt/cloudera/parcels/CDH/lib/hive/lib/hive-contrib.jar] to class path\n",
      "Added resources: [/opt/cloudera/parcels/CDH/lib/hive/lib/hive-contrib.jar]\n",
      "OK\n",
      "Time taken: 0.49 seconds\n",
      "OK\n",
      "Time taken: 1.014 seconds\n",
      "OK\n",
      "Time taken: 0.362 seconds\n",
      "OK\n",
      "1394\t2008\t08\n",
      "3543\t2008\t08\n",
      "4521\t2008\t08\n",
      "8689\t2008\t08\n",
      "9062\t2008\t08\n",
      "14671\t2008\t08\n",
      "16307\t2008\t08\n",
      "18780\t2008\t08\n",
      "18929\t2008\t08\n",
      "19668\t2008\t08\n",
      "Time taken: 0.522 seconds, Fetched: 10 row(s)\n"
     ]
    }
   ],
   "source": [
    "! hive -f external_table.hql"
   ]
  },
  {
   "cell_type": "code",
   "execution_count": 100,
   "metadata": {},
   "outputs": [
    {
     "name": "stdout",
     "output_type": "stream",
     "text": [
      "Overwriting table.hql\n"
     ]
    }
   ],
   "source": [
    "%%writefile table.hql\n",
    "\n",
    "ADD JAR /opt/cloudera/parcels/CDH/lib/hive/lib/hive-contrib.jar;\n",
    "\n",
    "SET hive.exec.dynamic.partition.mode=nonstrict;\n",
    "\n",
    "USE postsdb;\n",
    "DROP TABLE if exists posts_sample; \n",
    "\n",
    "CREATE TABLE posts_sample (\n",
    "rowid int\n",
    ") \n",
    "PARTITIONED BY (year INT, month INT);\n",
    "\n",
    "FROM posts_sample_external\n",
    "INSERT OVERWRITE TABLE posts_sample\n",
    "PARTITION (year, month)\n",
    "SELECT rowid, year, month;"
   ]
  },
  {
   "cell_type": "code",
   "execution_count": 101,
   "metadata": {
    "scrolled": true
   },
   "outputs": [
    {
     "name": "stdout",
     "output_type": "stream",
     "text": [
      "\n",
      "Logging initialized using configuration in jar:file:/usr/local/apache-hive-1.1.0-bin/lib/hive-common-1.1.0.jar!/hive-log4j.properties\n",
      "Added [/opt/cloudera/parcels/CDH/lib/hive/lib/hive-contrib.jar] to class path\n",
      "Added resources: [/opt/cloudera/parcels/CDH/lib/hive/lib/hive-contrib.jar]\n",
      "OK\n",
      "Time taken: 0.508 seconds\n",
      "OK\n",
      "Time taken: 3.023 seconds\n",
      "OK\n",
      "Time taken: 0.357 seconds\n",
      "Query ID = jovyan_20180517072525_384a69b4-8293-4516-b1c2-12f7dd53b2a9\n",
      "Total jobs = 3\n",
      "Launching Job 1 out of 3\n",
      "Number of reduce tasks is set to 0 since there's no reduce operator\n",
      "Starting Job = job_1526536736924_0028, Tracking URL = http://fac3e30a4073:8088/proxy/application_1526536736924_0028/\n",
      "Kill Command = /opt/hadoop/bin/hadoop job  -kill job_1526536736924_0028\n",
      "Hadoop job information for Stage-1: number of mappers: 1; number of reducers: 0\n",
      "2018-05-17 07:25:25,144 Stage-1 map = 0%,  reduce = 0%\n",
      "2018-05-17 07:25:41,807 Stage-1 map = 100%,  reduce = 0%, Cumulative CPU 14.48 sec\n",
      "MapReduce Total cumulative CPU time: 14 seconds 480 msec\n",
      "Ended Job = job_1526536736924_0028\n",
      "Stage-4 is selected by condition resolver.\n",
      "Stage-3 is filtered out by condition resolver.\n",
      "Stage-5 is filtered out by condition resolver.\n",
      "Moving data to: hdfs://localhost:9000/user/jovyan/somemetastore/posts_sample/.hive-staging_hive_2018-05-17_07-25-15_971_6551771656724173801-1/-ext-10000\n",
      "Loading data to table postsdb.posts_sample partition (year=null, month=null)\n",
      "\t Time taken for load dynamic partitions : 5660\n",
      "\tLoading partition {year=2010, month=09}\n",
      "\tLoading partition {year=2014, month=05}\n",
      "\tLoading partition {year=2010, month=12}\n",
      "\tLoading partition {year=2010, month=03}\n",
      "\tLoading partition {year=2012, month=04}\n",
      "\tLoading partition {year=2016, month=06}\n",
      "\tLoading partition {year=2009, month=09}\n",
      "\tLoading partition {year=2008, month=12}\n",
      "\tLoading partition {year=2011, month=09}\n",
      "\tLoading partition {year=2013, month=04}\n",
      "\tLoading partition {year=2015, month=05}\n",
      "\tLoading partition {year=2011, month=03}\n",
      "\tLoading partition {year=2011, month=12}\n",
      "\tLoading partition {year=2016, month=10}\n",
      "\tLoading partition {year=2014, month=04}\n",
      "\tLoading partition {year=2010, month=02}\n",
      "\tLoading partition {year=2012, month=12}\n",
      "\tLoading partition {year=2009, month=12}\n",
      "\tLoading partition {year=2013, month=05}\n",
      "\tLoading partition {year=2010, month=08}\n",
      "\tLoading partition {year=2015, month=10}\n",
      "\tLoading partition {year=2011, month=05}\n",
      "\tLoading partition {year=2011, month=08}\n",
      "\tLoading partition {year=2013, month=03}\n",
      "\tLoading partition {year=2013, month=06}\n",
      "\tLoading partition {year=2015, month=04}\n",
      "\tLoading partition {year=2011, month=11}\n",
      "\tLoading partition {year=2009, month=02}\n",
      "\tLoading partition {year=2016, month=11}\n",
      "\tLoading partition {year=2014, month=10}\n",
      "\tLoading partition {year=2016, month=02}\n",
      "\tLoading partition {year=2012, month=02}\n",
      "\tLoading partition {year=2010, month=01}\n",
      "\tLoading partition {year=2010, month=10}\n",
      "\tLoading partition {year=2010, month=04}\n",
      "\tLoading partition {year=2016, month=07}\n",
      "\tLoading partition {year=2008, month=08}\n",
      "\tLoading partition {year=2009, month=04}\n",
      "\tLoading partition {year=2008, month=11}\n",
      "\tLoading partition {year=2009, month=10}\n",
      "\tLoading partition {year=2015, month=06}\n",
      "\tLoading partition {year=2016, month=05}\n",
      "\tLoading partition {year=2013, month=08}\n",
      "\tLoading partition {year=2014, month=07}\n",
      "\tLoading partition {year=2012, month=10}\n",
      "\tLoading partition {year=2015, month=01}\n",
      "\tLoading partition {year=2012, month=09}\n",
      "\tLoading partition {year=2014, month=02}\n",
      "\tLoading partition {year=2012, month=01}\n",
      "\tLoading partition {year=2010, month=06}\n",
      "\tLoading partition {year=2012, month=07}\n",
      "\tLoading partition {year=2015, month=12}\n",
      "\tLoading partition {year=2011, month=10}\n",
      "\tLoading partition {year=2013, month=11}\n",
      "\tLoading partition {year=2014, month=08}\n",
      "\tLoading partition {year=2016, month=09}\n",
      "\tLoading partition {year=2015, month=03}\n",
      "\tLoading partition {year=2013, month=07}\n",
      "\tLoading partition {year=2011, month=06}\n",
      "\tLoading partition {year=2015, month=08}\n",
      "\tLoading partition {year=2009, month=07}\n",
      "\tLoading partition {year=2015, month=11}\n",
      "\tLoading partition {year=2009, month=01}\n",
      "\tLoading partition {year=2014, month=12}\n",
      "\tLoading partition {year=2016, month=04}\n",
      "\tLoading partition {year=2014, month=09}\n",
      "\tLoading partition {year=2013, month=01}\n",
      "\tLoading partition {year=2011, month=01}\n",
      "\tLoading partition {year=2015, month=09}\n",
      "\tLoading partition {year=2012, month=06}\n",
      "\tLoading partition {year=2011, month=07}\n",
      "\tLoading partition {year=2016, month=08}\n",
      "\tLoading partition {year=2009, month=06}\n",
      "\tLoading partition {year=2013, month=12}\n",
      "\tLoading partition {year=2014, month=11}\n",
      "\tLoading partition {year=2016, month=03}\n",
      "\tLoading partition {year=2009, month=11}\n",
      "\tLoading partition {year=2011, month=02}\n",
      "\tLoading partition {year=2009, month=05}\n",
      "\tLoading partition {year=2009, month=08}\n",
      "\tLoading partition {year=2015, month=07}\n",
      "\tLoading partition {year=2013, month=09}\n",
      "\tLoading partition {year=2014, month=01}\n",
      "\tLoading partition {year=2010, month=07}\n",
      "\tLoading partition {year=2012, month=08}\n",
      "\tLoading partition {year=2014, month=03}\n",
      "\tLoading partition {year=2012, month=05}\n",
      "\tLoading partition {year=2014, month=06}\n",
      "\tLoading partition {year=2012, month=11}\n",
      "\tLoading partition {year=2013, month=10}\n",
      "\tLoading partition {year=2015, month=02}\n",
      "\tLoading partition {year=2010, month=05}\n",
      "\tLoading partition {year=2011, month=04}\n",
      "\tLoading partition {year=2016, month=01}\n",
      "\tLoading partition {year=2013, month=02}\n",
      "\tLoading partition {year=2012, month=03}\n",
      "\tLoading partition {year=2010, month=11}\n",
      "\tLoading partition {year=2016, month=12}\n",
      "\tLoading partition {year=2008, month=09}\n",
      "\tLoading partition {year=2009, month=03}\n",
      "\tLoading partition {year=2008, month=10}\n",
      "\t Time taken for adding to write entity : 35\n",
      "Partition postsdb.posts_sample{year=2008, month=08} stats: [numFiles=1, numRows=23, totalSize=133, rawDataSize=110]\n",
      "Partition postsdb.posts_sample{year=2008, month=09} stats: [numFiles=1, numRows=89, totalSize=572, rawDataSize=483]\n",
      "Partition postsdb.posts_sample{year=2008, month=10} stats: [numFiles=1, numRows=73, totalSize=511, rawDataSize=438]\n",
      "Partition postsdb.posts_sample{year=2008, month=11} stats: [numFiles=1, numRows=54, totalSize=378, rawDataSize=324]\n",
      "Partition postsdb.posts_sample{year=2008, month=12} stats: [numFiles=1, numRows=51, totalSize=357, rawDataSize=306]\n",
      "Partition postsdb.posts_sample{year=2009, month=01} stats: [numFiles=1, numRows=84, totalSize=588, rawDataSize=504]\n",
      "Partition postsdb.posts_sample{year=2009, month=02} stats: [numFiles=1, numRows=84, totalSize=588, rawDataSize=504]\n",
      "Partition postsdb.posts_sample{year=2009, month=03} stats: [numFiles=1, numRows=85, totalSize=595, rawDataSize=510]\n",
      "Partition postsdb.posts_sample{year=2009, month=04} stats: [numFiles=1, numRows=97, totalSize=679, rawDataSize=582]\n",
      "Partition postsdb.posts_sample{year=2009, month=05} stats: [numFiles=1, numRows=111, totalSize=777, rawDataSize=666]\n",
      "Partition postsdb.posts_sample{year=2009, month=06} stats: [numFiles=1, numRows=120, totalSize=908, rawDataSize=788]\n",
      "Partition postsdb.posts_sample{year=2009, month=07} stats: [numFiles=1, numRows=133, totalSize=1064, rawDataSize=931]\n",
      "Partition postsdb.posts_sample{year=2009, month=08} stats: [numFiles=1, numRows=129, totalSize=1032, rawDataSize=903]\n",
      "Partition postsdb.posts_sample{year=2009, month=09} stats: [numFiles=1, numRows=128, totalSize=1024, rawDataSize=896]\n",
      "Partition postsdb.posts_sample{year=2009, month=10} stats: [numFiles=1, numRows=133, totalSize=1064, rawDataSize=931]\n",
      "Partition postsdb.posts_sample{year=2009, month=11} stats: [numFiles=1, numRows=149, totalSize=1192, rawDataSize=1043]\n",
      "Partition postsdb.posts_sample{year=2009, month=12} stats: [numFiles=1, numRows=147, totalSize=1176, rawDataSize=1029]\n",
      "Partition postsdb.posts_sample{year=2010, month=01} stats: [numFiles=1, numRows=175, totalSize=1400, rawDataSize=1225]\n",
      "Partition postsdb.posts_sample{year=2010, month=02} stats: [numFiles=1, numRows=162, totalSize=1296, rawDataSize=1134]\n",
      "Partition postsdb.posts_sample{year=2010, month=03} stats: [numFiles=1, numRows=190, totalSize=1520, rawDataSize=1330]\n",
      "Partition postsdb.posts_sample{year=2010, month=04} stats: [numFiles=1, numRows=179, totalSize=1432, rawDataSize=1253]\n",
      "Partition postsdb.posts_sample{year=2010, month=05} stats: [numFiles=1, numRows=168, totalSize=1344, rawDataSize=1176]\n"
     ]
    },
    {
     "name": "stdout",
     "output_type": "stream",
     "text": [
      "Partition postsdb.posts_sample{year=2010, month=06} stats: [numFiles=1, numRows=201, totalSize=1608, rawDataSize=1407]\n",
      "Partition postsdb.posts_sample{year=2010, month=07} stats: [numFiles=1, numRows=209, totalSize=1672, rawDataSize=1463]\n",
      "Partition postsdb.posts_sample{year=2010, month=08} stats: [numFiles=1, numRows=212, totalSize=1696, rawDataSize=1484]\n",
      "Partition postsdb.posts_sample{year=2010, month=09} stats: [numFiles=1, numRows=208, totalSize=1664, rawDataSize=1456]\n",
      "Partition postsdb.posts_sample{year=2010, month=10} stats: [numFiles=1, numRows=222, totalSize=1776, rawDataSize=1554]\n",
      "Partition postsdb.posts_sample{year=2010, month=11} stats: [numFiles=1, numRows=236, totalSize=1888, rawDataSize=1652]\n",
      "Partition postsdb.posts_sample{year=2010, month=12} stats: [numFiles=1, numRows=237, totalSize=1896, rawDataSize=1659]\n",
      "Partition postsdb.posts_sample{year=2011, month=01} stats: [numFiles=1, numRows=276, totalSize=2208, rawDataSize=1932]\n",
      "Partition postsdb.posts_sample{year=2011, month=02} stats: [numFiles=1, numRows=273, totalSize=2184, rawDataSize=1911]\n",
      "Partition postsdb.posts_sample{year=2011, month=03} stats: [numFiles=1, numRows=349, totalSize=2792, rawDataSize=2443]\n",
      "Partition postsdb.posts_sample{year=2011, month=04} stats: [numFiles=1, numRows=321, totalSize=2568, rawDataSize=2247]\n",
      "Partition postsdb.posts_sample{year=2011, month=05} stats: [numFiles=1, numRows=327, totalSize=2616, rawDataSize=2289]\n",
      "Partition postsdb.posts_sample{year=2011, month=06} stats: [numFiles=1, numRows=340, totalSize=2720, rawDataSize=2380]\n",
      "Partition postsdb.posts_sample{year=2011, month=07} stats: [numFiles=1, numRows=335, totalSize=2680, rawDataSize=2345]\n",
      "Partition postsdb.posts_sample{year=2011, month=08} stats: [numFiles=1, numRows=362, totalSize=2896, rawDataSize=2534]\n",
      "Partition postsdb.posts_sample{year=2011, month=09} stats: [numFiles=1, numRows=343, totalSize=2744, rawDataSize=2401]\n",
      "Partition postsdb.posts_sample{year=2011, month=10} stats: [numFiles=1, numRows=331, totalSize=2648, rawDataSize=2317]\n",
      "Partition postsdb.posts_sample{year=2011, month=11} stats: [numFiles=1, numRows=361, totalSize=2888, rawDataSize=2527]\n",
      "Partition postsdb.posts_sample{year=2011, month=12} stats: [numFiles=1, numRows=350, totalSize=2800, rawDataSize=2450]\n",
      "Partition postsdb.posts_sample{year=2012, month=01} stats: [numFiles=1, numRows=377, totalSize=3016, rawDataSize=2639]\n",
      "Partition postsdb.posts_sample{year=2012, month=02} stats: [numFiles=1, numRows=412, totalSize=3296, rawDataSize=2884]\n",
      "Partition postsdb.posts_sample{year=2012, month=03} stats: [numFiles=1, numRows=432, totalSize=3456, rawDataSize=3024]\n",
      "Partition postsdb.posts_sample{year=2012, month=04} stats: [numFiles=1, numRows=412, totalSize=3672, rawDataSize=3260]\n",
      "Partition postsdb.posts_sample{year=2012, month=05} stats: [numFiles=1, numRows=429, totalSize=3861, rawDataSize=3432]\n",
      "Partition postsdb.posts_sample{year=2012, month=06} stats: [numFiles=1, numRows=412, totalSize=3708, rawDataSize=3296]\n",
      "Partition postsdb.posts_sample{year=2012, month=07} stats: [numFiles=1, numRows=445, totalSize=4005, rawDataSize=3560]\n",
      "Partition postsdb.posts_sample{year=2012, month=08} stats: [numFiles=1, numRows=445, totalSize=4005, rawDataSize=3560]\n",
      "Partition postsdb.posts_sample{year=2012, month=09} stats: [numFiles=1, numRows=399, totalSize=3591, rawDataSize=3192]\n",
      "Partition postsdb.posts_sample{year=2012, month=10} stats: [numFiles=1, numRows=469, totalSize=4221, rawDataSize=3752]\n",
      "Partition postsdb.posts_sample{year=2012, month=11} stats: [numFiles=1, numRows=438, totalSize=3942, rawDataSize=3504]\n",
      "Partition postsdb.posts_sample{year=2012, month=12} stats: [numFiles=1, numRows=415, totalSize=3735, rawDataSize=3320]\n",
      "Partition postsdb.posts_sample{year=2013, month=01} stats: [numFiles=1, numRows=484, totalSize=4356, rawDataSize=3872]\n",
      "Partition postsdb.posts_sample{year=2013, month=02} stats: [numFiles=1, numRows=474, totalSize=4266, rawDataSize=3792]\n",
      "Partition postsdb.posts_sample{year=2013, month=03} stats: [numFiles=1, numRows=533, totalSize=4797, rawDataSize=4264]\n",
      "Partition postsdb.posts_sample{year=2013, month=04} stats: [numFiles=1, numRows=529, totalSize=4761, rawDataSize=4232]\n",
      "Partition postsdb.posts_sample{year=2013, month=05} stats: [numFiles=1, numRows=520, totalSize=4680, rawDataSize=4160]\n",
      "Partition postsdb.posts_sample{year=2013, month=06} stats: [numFiles=1, numRows=477, totalSize=4293, rawDataSize=3816]\n",
      "Partition postsdb.posts_sample{year=2013, month=07} stats: [numFiles=1, numRows=550, totalSize=4950, rawDataSize=4400]\n",
      "Partition postsdb.posts_sample{year=2013, month=08} stats: [numFiles=1, numRows=531, totalSize=4779, rawDataSize=4248]\n",
      "Partition postsdb.posts_sample{year=2013, month=09} stats: [numFiles=1, numRows=511, totalSize=4599, rawDataSize=4088]\n",
      "Partition postsdb.posts_sample{year=2013, month=10} stats: [numFiles=1, numRows=570, totalSize=5130, rawDataSize=4560]\n",
      "Partition postsdb.posts_sample{year=2013, month=11} stats: [numFiles=1, numRows=543, totalSize=4887, rawDataSize=4344]\n",
      "Partition postsdb.posts_sample{year=2013, month=12} stats: [numFiles=1, numRows=513, totalSize=4617, rawDataSize=4104]\n",
      "Partition postsdb.posts_sample{year=2014, month=01} stats: [numFiles=1, numRows=595, totalSize=5355, rawDataSize=4760]\n",
      "Partition postsdb.posts_sample{year=2014, month=02} stats: [numFiles=1, numRows=585, totalSize=5265, rawDataSize=4680]\n",
      "Partition postsdb.posts_sample{year=2014, month=03} stats: [numFiles=1, numRows=624, totalSize=5616, rawDataSize=4992]\n",
      "Partition postsdb.posts_sample{year=2014, month=04} stats: [numFiles=1, numRows=593, totalSize=5337, rawDataSize=4744]\n",
      "Partition postsdb.posts_sample{year=2014, month=05} stats: [numFiles=1, numRows=541, totalSize=4869, rawDataSize=4328]\n",
      "Partition postsdb.posts_sample{year=2014, month=06} stats: [numFiles=1, numRows=487, totalSize=4383, rawDataSize=3896]\n",
      "Partition postsdb.posts_sample{year=2014, month=07} stats: [numFiles=1, numRows=536, totalSize=4824, rawDataSize=4288]\n",
      "Partition postsdb.posts_sample{year=2014, month=08} stats: [numFiles=1, numRows=495, totalSize=4455, rawDataSize=3960]\n",
      "Partition postsdb.posts_sample{year=2014, month=09} stats: [numFiles=1, numRows=502, totalSize=4518, rawDataSize=4016]\n",
      "Partition postsdb.posts_sample{year=2014, month=10} stats: [numFiles=1, numRows=527, totalSize=4743, rawDataSize=4216]\n",
      "Partition postsdb.posts_sample{year=2014, month=11} stats: [numFiles=1, numRows=501, totalSize=4509, rawDataSize=4008]\n",
      "Partition postsdb.posts_sample{year=2014, month=12} stats: [numFiles=1, numRows=482, totalSize=4338, rawDataSize=3856]\n",
      "Partition postsdb.posts_sample{year=2015, month=01} stats: [numFiles=1, numRows=502, totalSize=4518, rawDataSize=4016]\n",
      "Partition postsdb.posts_sample{year=2015, month=02} stats: [numFiles=1, numRows=506, totalSize=4554, rawDataSize=4048]\n",
      "Partition postsdb.posts_sample{year=2015, month=03} stats: [numFiles=1, numRows=568, totalSize=5112, rawDataSize=4544]\n",
      "Partition postsdb.posts_sample{year=2015, month=04} stats: [numFiles=1, numRows=581, totalSize=5229, rawDataSize=4648]\n",
      "Partition postsdb.posts_sample{year=2015, month=05} stats: [numFiles=1, numRows=566, totalSize=5094, rawDataSize=4528]\n",
      "Partition postsdb.posts_sample{year=2015, month=06} stats: [numFiles=1, numRows=570, totalSize=5130, rawDataSize=4560]\n",
      "Partition postsdb.posts_sample{year=2015, month=07} stats: [numFiles=1, numRows=585, totalSize=5265, rawDataSize=4680]\n",
      "Partition postsdb.posts_sample{year=2015, month=08} stats: [numFiles=1, numRows=554, totalSize=4986, rawDataSize=4432]\n",
      "Partition postsdb.posts_sample{year=2015, month=09} stats: [numFiles=1, numRows=536, totalSize=4824, rawDataSize=4288]\n",
      "Partition postsdb.posts_sample{year=2015, month=10} stats: [numFiles=1, numRows=561, totalSize=5049, rawDataSize=4488]\n",
      "Partition postsdb.posts_sample{year=2015, month=11} stats: [numFiles=1, numRows=529, totalSize=4761, rawDataSize=4232]\n",
      "Partition postsdb.posts_sample{year=2015, month=12} stats: [numFiles=1, numRows=537, totalSize=4833, rawDataSize=4296]\n",
      "Partition postsdb.posts_sample{year=2016, month=01} stats: [numFiles=1, numRows=582, totalSize=5238, rawDataSize=4656]\n",
      "Partition postsdb.posts_sample{year=2016, month=02} stats: [numFiles=1, numRows=592, totalSize=5328, rawDataSize=4736]\n",
      "Partition postsdb.posts_sample{year=2016, month=03} stats: [numFiles=1, numRows=638, totalSize=5742, rawDataSize=5104]\n",
      "Partition postsdb.posts_sample{year=2016, month=04} stats: [numFiles=1, numRows=619, totalSize=5571, rawDataSize=4952]\n",
      "Partition postsdb.posts_sample{year=2016, month=05} stats: [numFiles=1, numRows=603, totalSize=5427, rawDataSize=4824]\n",
      "Partition postsdb.posts_sample{year=2016, month=06} stats: [numFiles=1, numRows=584, totalSize=5256, rawDataSize=4672]\n",
      "Partition postsdb.posts_sample{year=2016, month=07} stats: [numFiles=1, numRows=562, totalSize=5058, rawDataSize=4496]\n",
      "Partition postsdb.posts_sample{year=2016, month=08} stats: [numFiles=1, numRows=571, totalSize=5139, rawDataSize=4568]\n",
      "Partition postsdb.posts_sample{year=2016, month=09} stats: [numFiles=1, numRows=545, totalSize=4905, rawDataSize=4360]\n",
      "Partition postsdb.posts_sample{year=2016, month=10} stats: [numFiles=1, numRows=554, totalSize=4986, rawDataSize=4432]\n",
      "Partition postsdb.posts_sample{year=2016, month=11} stats: [numFiles=1, numRows=562, totalSize=5058, rawDataSize=4496]\n",
      "Partition postsdb.posts_sample{year=2016, month=12} stats: [numFiles=1, numRows=195, totalSize=1755, rawDataSize=1560]\n"
     ]
    },
    {
     "name": "stdout",
     "output_type": "stream",
     "text": [
      "MapReduce Jobs Launched: \r\n",
      "Stage-Stage-1: Map: 1   Cumulative CPU: 14.74 sec   HDFS Read: 60003326 HDFS Write: 347401 SUCCESS\r\n",
      "Total MapReduce CPU Time Spent: 14 seconds 740 msec\r\n",
      "OK\r\n",
      "Time taken: 38.38 seconds\r\n"
     ]
    }
   ],
   "source": [
    "! hive -f table.hql"
   ]
  },
  {
   "cell_type": "code",
   "execution_count": 132,
   "metadata": {},
   "outputs": [
    {
     "name": "stdout",
     "output_type": "stream",
     "text": [
      "Overwriting table.hql\n"
     ]
    }
   ],
   "source": [
    "%%writefile table.hql\n",
    "\n",
    "ADD JAR /opt/cloudera/parcels/CDH/lib/hive/lib/hive-contrib.jar;\n",
    "\n",
    "USE postsdb;\n",
    "\n",
    "SELECT\n",
    "    concat_ws(\"\\t\", year, concat_ws(\"-\", year, month), lines_count)\n",
    "FROM (\n",
    "    SELECT\n",
    "        string(year) as year\n",
    "        ,string(month) as month\n",
    "        ,string(lines_count) as lines_count\n",
    "        ,ROW_NUMBER() OVER (ORDER BY year, month) as rownum\n",
    "    FROM (\n",
    "        SELECT year, month, COUNT(rowid) as lines_count\n",
    "        FROM posts_sample\n",
    "        GROUP BY year, month\n",
    "    ) t1\n",
    ") t2\n",
    "WHERE rownum = 3;"
   ]
  },
  {
   "cell_type": "code",
   "execution_count": 133,
   "metadata": {},
   "outputs": [
    {
     "name": "stdout",
     "output_type": "stream",
     "text": [
      "\n",
      "Logging initialized using configuration in jar:file:/usr/local/apache-hive-1.1.0-bin/lib/hive-common-1.1.0.jar!/hive-log4j.properties\n",
      "Added [/opt/cloudera/parcels/CDH/lib/hive/lib/hive-contrib.jar] to class path\n",
      "Added resources: [/opt/cloudera/parcels/CDH/lib/hive/lib/hive-contrib.jar]\n",
      "OK\n",
      "Time taken: 0.571 seconds\n",
      "Query ID = jovyan_20180517075353_64c8160f-aac0-43de-972f-8d522e35dc16\n",
      "Total jobs = 2\n",
      "Launching Job 1 out of 2\n",
      "Number of reduce tasks not specified. Estimated from input data size: 1\n",
      "In order to change the average load for a reducer (in bytes):\n",
      "  set hive.exec.reducers.bytes.per.reducer=<number>\n",
      "In order to limit the maximum number of reducers:\n",
      "  set hive.exec.reducers.max=<number>\n",
      "In order to set a constant number of reducers:\n",
      "  set mapreduce.job.reduces=<number>\n",
      "Starting Job = job_1526536736924_0049, Tracking URL = http://fac3e30a4073:8088/proxy/application_1526536736924_0049/\n",
      "Kill Command = /opt/hadoop/bin/hadoop job  -kill job_1526536736924_0049\n",
      "Hadoop job information for Stage-1: number of mappers: 1; number of reducers: 1\n",
      "2018-05-17 07:53:35,928 Stage-1 map = 0%,  reduce = 0%\n",
      "2018-05-17 07:53:41,464 Stage-1 map = 100%,  reduce = 0%, Cumulative CPU 3.31 sec\n",
      "2018-05-17 07:53:47,796 Stage-1 map = 100%,  reduce = 100%, Cumulative CPU 5.04 sec\n",
      "MapReduce Total cumulative CPU time: 5 seconds 40 msec\n",
      "Ended Job = job_1526536736924_0049\n",
      "Launching Job 2 out of 2\n",
      "Number of reduce tasks not specified. Estimated from input data size: 1\n",
      "In order to change the average load for a reducer (in bytes):\n",
      "  set hive.exec.reducers.bytes.per.reducer=<number>\n",
      "In order to limit the maximum number of reducers:\n",
      "  set hive.exec.reducers.max=<number>\n",
      "In order to set a constant number of reducers:\n",
      "  set mapreduce.job.reduces=<number>\n",
      "Starting Job = job_1526536736924_0050, Tracking URL = http://fac3e30a4073:8088/proxy/application_1526536736924_0050/\n",
      "Kill Command = /opt/hadoop/bin/hadoop job  -kill job_1526536736924_0050\n",
      "Hadoop job information for Stage-2: number of mappers: 1; number of reducers: 1\n",
      "2018-05-17 07:54:00,934 Stage-2 map = 0%,  reduce = 0%\n",
      "2018-05-17 07:54:06,129 Stage-2 map = 100%,  reduce = 0%, Cumulative CPU 1.18 sec\n",
      "2018-05-17 07:54:12,420 Stage-2 map = 100%,  reduce = 100%, Cumulative CPU 4.09 sec\n",
      "MapReduce Total cumulative CPU time: 4 seconds 90 msec\n",
      "Ended Job = job_1526536736924_0050\n",
      "MapReduce Jobs Launched: \n",
      "Stage-Stage-1: Map: 1  Reduce: 1   Cumulative CPU: 5.04 sec   HDFS Read: 387491 HDFS Write: 2499 SUCCESS\n",
      "Stage-Stage-2: Map: 1  Reduce: 1   Cumulative CPU: 4.09 sec   HDFS Read: 10039 HDFS Write: 27 SUCCESS\n",
      "Total MapReduce CPU Time Spent: 9 seconds 130 msec\n",
      "OK\n",
      "2008\t10\t73\t2008\t2008-10\t73\n",
      "Time taken: 48.628 seconds, Fetched: 1 row(s)\n"
     ]
    }
   ],
   "source": [
    "! hive -f table.hql"
   ]
  },
  {
   "cell_type": "code",
   "execution_count": null,
   "metadata": {},
   "outputs": [],
   "source": []
  }
 ],
 "metadata": {
  "kernelspec": {
   "display_name": "Python 3",
   "language": "python",
   "name": "python3"
  },
  "language_info": {
   "codemirror_mode": {
    "name": "ipython",
    "version": 3
   },
   "file_extension": ".py",
   "mimetype": "text/x-python",
   "name": "python",
   "nbconvert_exporter": "python",
   "pygments_lexer": "ipython3",
   "version": "3.6.2"
  }
 },
 "nbformat": 4,
 "nbformat_minor": 2
}
